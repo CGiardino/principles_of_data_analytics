{
 "cells": [
  {
   "cell_type": "markdown",
   "metadata": {},
   "source": [
    "# Required Imports for This Notebook\n",
    "- **Pandas**: Used for data handling, exploration, and manipulation.\n",
    "- **Scikit-learn**: Provides tools for loading datasets and applying machine learning techniques.\n",
    "- **Matplotlib**: Used for visualizing data with plots and charts."
   ]
  },
  {
   "cell_type": "code",
   "execution_count": null,
   "metadata": {},
   "outputs": [],
   "source": [
    "import pandas as pd\n",
    "import sklearn as skl\n",
    "import matplotlib.pyplot as plt"
   ]
  },
  {
   "cell_type": "markdown",
   "metadata": {},
   "source": [
    "# Task 1: Source the Data Set\n",
    "\n",
    "## Importing the Iris Dataset\n",
    "We will import the Iris dataset from the `sklearn.datasets` module using the `load_iris()` function.\n",
    "\n",
    "### Understanding `load_iris()`\n",
    "- The `load_iris()` function returns a dictionary-like object called a **Bunch**.\n",
    "- The **Bunch** contains attributes that allow access to both the data and metadata of the dataset.\n",
    "- The dataset consists of **numerical features** (sepal length, sepal width, petal length, petal width) and  **target classes** representing the species (setosa, versicolor, virginica).\n",
    "\n",
    "## Resources\n",
    "- [Scikit-learn datasets documentation](https://scikit-learn.org/stable/modules/generated/sklearn.datasets.load_iris.html).\n"
   ]
  },
  {
   "cell_type": "code",
   "execution_count": null,
   "metadata": {},
   "outputs": [],
   "source": [
    "# Load the iris dataset\n",
    "iris_dataset = skl.datasets.load_iris()"
   ]
  },
  {
   "cell_type": "markdown",
   "metadata": {},
   "source": [
    "# Task 2: Explore the Data Structure\n",
    "\n",
    "In this task, we examined the structure of the Iris dataset by performing the following steps:\n",
    "\n",
    "- **Printed the shape of the dataset** to determine the number of samples (rows) and features (columns).\n",
    "- **Displayed the first 5 rows** to get an initial view of the data.\n",
    "- **Displayed the last 5 rows** to check the end of the dataset.\n",
    "- **Listed the feature names** to understand the measured attributes (sepal and petal dimensions).\n",
    "- **Listed the target class names** to identify the species classifications.\n",
    "\n",
    "## Resources\n",
    "- [Pandas dataframe documentation](https://pandas.pydata.org/docs/reference/api/pandas.DataFrame.html)"
   ]
  },
  {
   "cell_type": "code",
   "execution_count": null,
   "metadata": {},
   "outputs": [],
   "source": [
    "# Convert the dataset into a Pandas DataFrame\n",
    "iris_dataframe = pd.DataFrame(iris_dataset.data, columns=iris_dataset.feature_names)\n",
    "\n",
    "# Add the target column to the DataFrame\n",
    "iris_dataframe[\"target\"] = iris_dataset.target\n",
    "\n",
    "# 1. Print the shape of the dataset\n",
    "print(\"Shape of the dataset:\", iris_dataframe.shape)\n",
    "\n",
    "# 2. Print the first 5 rows of the dataset\n",
    "print(\"First 5 rows of the dataset:\")\n",
    "display(iris_dataframe.head())  # Use display() in Jupyter for better formatting\n",
    "\n",
    "# 3. Print the last 5 rows of the dataset\n",
    "print(\"Last 5 rows of the dataset:\")\n",
    "display(iris_dataframe.tail())\n",
    "\n",
    "# 4. Print the feature names (column names)\n",
    "print(\"Feature Names:\", iris_dataset.feature_names)\n",
    "\n",
    "# 5. Print the target class names (species)\n",
    "print(\"Target Classes:\", iris_dataset.target_names)"
   ]
  },
  {
   "cell_type": "markdown",
   "metadata": {},
   "source": [
    "# Task 3: Summarize the Data\n",
    "For each feature calculating key statistical metrics (mean, min, max, standard deviation, and median) for the `iris_dataframe` and stores them in a new DataFrame.  \n",
    "It then applies styling to align the table content and headers to the left before displaying the formatted table.\n",
    "\n",
    "## Resources\n",
    "[Pandas dataframes stats](https://pandas.pydata.org/docs/reference/frame.html#computations-descriptive-stats)"
   ]
  },
  {
   "cell_type": "code",
   "execution_count": null,
   "metadata": {},
   "outputs": [],
   "source": [
    "# Create a DataFrame to store statistics\n",
    "iris_stats_dataframe = pd.DataFrame({\n",
    "    \"Mean\": iris_dataframe.mean(),\n",
    "    \"Minimum\": iris_dataframe.min(),\n",
    "    \"Maximum\": iris_dataframe.max(),\n",
    "    \"Standard Deviation\": iris_dataframe.std(),\n",
    "    \"Median\": iris_dataframe.median()\n",
    "})\n",
    "\n",
    "## Apply table styling to align text to the left\n",
    "feature_stats_styled = iris_stats_dataframe.style.set_table_styles([\n",
    "    {'selector': 'th', 'props': [('text-align', 'left')]},  # Align column headers to the left\n",
    "    {'selector': 'td', 'props': [('text-align', 'left')]}   # Align table content to the left\n",
    "])\n",
    "# Display the statistics in a well-formatted table\n",
    "display(feature_stats_styled)"
   ]
  },
  {
   "cell_type": "markdown",
   "metadata": {},
   "source": [
    "# Task 4: Visualize Features\n",
    "\n",
    "This code plots histograms for the four features of `iris_dataframe` in a 2×2 grid, setting the figure size to 12×8 inches.  \n",
    "Each histogram has 20 bins, black edges, and 70% opacity, with the feature name as the title, the feature name as the x-axis label, and \"Frequency\" as the y-axis label.  \n",
    "The layout is adjusted to prevent overlapping."
   ]
  },
  {
   "cell_type": "code",
   "execution_count": null,
   "metadata": {},
   "outputs": [],
   "source": [
    "# Set figure size\n",
    "plt.figure(figsize=(12, 8))\n",
    "\n",
    "# Iterate through each column in the DataFrame\n",
    "for i, column in enumerate(iris_dataframe.columns[:4], 1):\n",
    "    # Create subplots (adjust grid size as needed)\n",
    "    plt.subplot(2, 2, i)\n",
    "    # Histogram with 20 bins, black edges, and 70% opacity.\n",
    "    plt.hist(iris_dataframe[column], bins=20, edgecolor=\"black\", alpha=0.7)\n",
    "    # Title\n",
    "    plt.title(f\"Histogram of {column}\")\n",
    "    # X-axis label\n",
    "    plt.xlabel(column)\n",
    "    # Y-axis label\n",
    "    plt.ylabel(\"Frequency\")\n",
    "\n",
    "# Adjust layout to prevent overlapping\n",
    "plt.tight_layout()\n",
    "plt.show()"
   ]
  }
 ],
 "metadata": {
  "kernelspec": {
   "display_name": "Python 3",
   "language": "python",
   "name": "python3"
  },
  "language_info": {
   "codemirror_mode": {
    "name": "ipython",
    "version": 3
   },
   "file_extension": ".py",
   "mimetype": "text/x-python",
   "name": "python",
   "nbconvert_exporter": "python",
   "pygments_lexer": "ipython3",
   "version": "3.12.1"
  }
 },
 "nbformat": 4,
 "nbformat_minor": 2
}
